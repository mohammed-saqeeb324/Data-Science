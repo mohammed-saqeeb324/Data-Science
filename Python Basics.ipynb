{
 "cells": [
  {
   "cell_type": "raw",
   "id": "07b8f4da-0e63-477d-9aec-37f982f14533",
   "metadata": {},
   "source": [
    "PYTHON PROGRAMMING ASSIGNMENT\n",
    "Coding Exercises\n",
    "Exercise 1: Prime Numbers\n",
    "Write a Python program that checks whether a given number is prime or not. A prime number is a natural number greater than 1 that has no positive divisors other than 1 and itself.\n",
    "Exercise 2: Product of Random Numbers\n",
    "Develop a Python program that generates two random numbers and asks the user to enter the product of these numbers. The program should then check if the user's answer is correct and display an appropriate message.\n",
    "Exercise 3: Squares of Even/Odd Numbers\n",
    "Create a Python script that prints the squares of all even or odd numbers within the range of 100 to 200. Choose either even or odd numbers and document your choice in the code.\n",
    "Exercise 4: Word counter\n",
    "write a program to count the number of words in a given text.\n",
    "example:\n",
    "input_text = \"This is a sample text. This text will be used to demonstrate the word counter.\"\n",
    "Expected output:\n",
    "'This': 2 \n",
    "'is': 1\n",
    "'a': 1\n",
    "'sample': 1\n",
    "'text.': 1\n",
    "\n",
    "Exercise 5: Check for Palindrome\n",
    "Write a Python function called is_palindrome that takes a string as input and returns True if the string is a palindrome, and False otherwise. A palindrome is a word, phrase, number, or other sequence of characters that reads the same forward and backward, ignoring spaces, punctuation, and capitalization.\n",
    "Example:\n",
    "Input: \"racecar\"\n",
    "Expected Output: True\n",
    "________________________________________\n",
    "Please complete the coding exercises and answer the theoretical questions. Submit your work in a single Python (.ipynb) file for the coding exercises.Ensure your code is well-commented to explain your logic and approach. Good luck!\n"
   ]
  },
  {
   "cell_type": "raw",
   "id": "61375417-61c7-407e-8451-7276543112f8",
   "metadata": {},
   "source": [
    "Exercise 1: Prime Numbers\n",
    "Write a Python program that checks whether a given number is prime or not. A prime number is a natural number greater than 1 that has no positive divisors other than 1 and itself."
   ]
  },
  {
   "cell_type": "code",
   "execution_count": 1,
   "id": "499af8e8-1939-4462-bcb8-4e5e41611ef6",
   "metadata": {},
   "outputs": [],
   "source": [
    "import numpy as np"
   ]
  },
  {
   "cell_type": "code",
   "execution_count": 103,
   "id": "029be2c0-b960-4e75-b98f-d6a75520c7bc",
   "metadata": {},
   "outputs": [],
   "source": [
    "import pandas as pd"
   ]
  },
  {
   "cell_type": "code",
   "execution_count": 5,
   "id": "5f97b40c-81e8-44f4-b4db-4299944d1dbe",
   "metadata": {},
   "outputs": [
    {
     "name": "stdin",
     "output_type": "stream",
     "text": [
      " 8\n"
     ]
    },
    {
     "name": "stdout",
     "output_type": "stream",
     "text": [
      "not a prime\n"
     ]
    }
   ],
   "source": [
    "n = int(input()) # take input from the user \n",
    "count=0 # initialize the count to zero\n",
    "for i in range(1,n+1):\n",
    "    if n%i == 0: \n",
    "        count+=1\n",
    "if count == 2:  \n",
    "    print(\"prime\") # if the number is divisible by only one number then it is not a prime\n",
    "else:\n",
    "    print(\"not a prime\") # if the number is divisible by more than two numbers then it is not a prime"
   ]
  },
  {
   "cell_type": "raw",
   "id": "953bccff-764c-4f67-a7d9-9247c6f6bab0",
   "metadata": {},
   "source": [
    "Exercise 2: Product of Random Numbers\n",
    "Develop a Python program that generates two random numbers and asks the user to enter the product of these numbers. The program should then check if the user's answer is correct and display an appropriate message."
   ]
  },
  {
   "cell_type": "code",
   "execution_count": 7,
   "id": "579fc69b-8437-42fb-a4e6-8b623020c6de",
   "metadata": {},
   "outputs": [
    {
     "name": "stdout",
     "output_type": "stream",
     "text": [
      "what is the product of 6 and 1\n"
     ]
    },
    {
     "name": "stdin",
     "output_type": "stream",
     "text": [
      "enter the product of given numbers 6\n"
     ]
    },
    {
     "name": "stdout",
     "output_type": "stream",
     "text": [
      "your answer is correct i.e.,6\n"
     ]
    }
   ],
   "source": [
    "import random # importing random to get the random numbers\n",
    "num1=random.randint(1,10)# generate two random numbers\n",
    "num2=random.randint(1,10)\n",
    "print(f\"what is the product of {num1} and {num2}\")\n",
    "correct_ans=num1*num2\n",
    "user_ans=int(input(\"enter the product of given numbers\"))\n",
    "if user_ans==correct_ans:\n",
    "    print(f\"your answer is correct i.e.,{correct_ans}\")\n",
    "else:\n",
    "    print(f\"oops! wrong answer correct answer is {correct_ans}\")"
   ]
  },
  {
   "cell_type": "raw",
   "id": "ff377de3-9fa1-427d-b3ab-daaad00cbe14",
   "metadata": {},
   "source": [
    "Exercise 3: Squares of Even/Odd Numbers\n",
    "Create a Python script that prints the squares of all even or odd numbers within the range of 100 to 200. Choose either even or odd numbers and document your choice in the code."
   ]
  },
  {
   "cell_type": "code",
   "execution_count": 5,
   "id": "2cba0aa5-2bbf-4977-9135-07bdc0590b3c",
   "metadata": {},
   "outputs": [
    {
     "name": "stdout",
     "output_type": "stream",
     "text": [
      "the saqure of 101 is 10201\n",
      "the saqure of 103 is 10609\n",
      "the saqure of 105 is 11025\n",
      "the saqure of 107 is 11449\n",
      "the saqure of 109 is 11881\n",
      "the saqure of 111 is 12321\n",
      "the saqure of 113 is 12769\n",
      "the saqure of 115 is 13225\n",
      "the saqure of 117 is 13689\n",
      "the saqure of 119 is 14161\n",
      "the saqure of 121 is 14641\n",
      "the saqure of 123 is 15129\n",
      "the saqure of 125 is 15625\n",
      "the saqure of 127 is 16129\n",
      "the saqure of 129 is 16641\n",
      "the saqure of 131 is 17161\n",
      "the saqure of 133 is 17689\n",
      "the saqure of 135 is 18225\n",
      "the saqure of 137 is 18769\n",
      "the saqure of 139 is 19321\n",
      "the saqure of 141 is 19881\n",
      "the saqure of 143 is 20449\n",
      "the saqure of 145 is 21025\n",
      "the saqure of 147 is 21609\n",
      "the saqure of 149 is 22201\n",
      "the saqure of 151 is 22801\n",
      "the saqure of 153 is 23409\n",
      "the saqure of 155 is 24025\n",
      "the saqure of 157 is 24649\n",
      "the saqure of 159 is 25281\n",
      "the saqure of 161 is 25921\n",
      "the saqure of 163 is 26569\n",
      "the saqure of 165 is 27225\n",
      "the saqure of 167 is 27889\n",
      "the saqure of 169 is 28561\n",
      "the saqure of 171 is 29241\n",
      "the saqure of 173 is 29929\n",
      "the saqure of 175 is 30625\n",
      "the saqure of 177 is 31329\n",
      "the saqure of 179 is 32041\n",
      "the saqure of 181 is 32761\n",
      "the saqure of 183 is 33489\n",
      "the saqure of 185 is 34225\n",
      "the saqure of 187 is 34969\n",
      "the saqure of 189 is 35721\n",
      "the saqure of 191 is 36481\n",
      "the saqure of 193 is 37249\n",
      "the saqure of 195 is 38025\n",
      "the saqure of 197 is 38809\n",
      "the saqure of 199 is 39601\n"
     ]
    }
   ],
   "source": [
    "for i in range(101,200,2):# print the squares of all the odd numbers\n",
    "    print(f\"the saqure of {i} is {i**2}\") "
   ]
  },
  {
   "cell_type": "raw",
   "id": "c0ec36ea-99ae-44b3-ac37-0df896e76d46",
   "metadata": {},
   "source": [
    "Exercise 5: Check for Palindrome\n",
    "Write a Python function called is_palindrome that takes a string as input and returns True if the string is a palindrome, and False otherwise. A palindrome is a word, phrase, number, or other sequence of characters that reads the same forward and backward, ignoring spaces, punctuation, and capitalization.\n",
    "Example:\n",
    "Input: \"racecar\"\n",
    "Expected Output: True\n",
    "_________________________"
   ]
  },
  {
   "cell_type": "code",
   "execution_count": 83,
   "id": "19b7e3f1-2649-4577-aa67-d63a40535e58",
   "metadata": {},
   "outputs": [
    {
     "name": "stdin",
     "output_type": "stream",
     "text": [
      "enter the word 1001\n"
     ]
    },
    {
     "name": "stdout",
     "output_type": "stream",
     "text": [
      "True\n"
     ]
    }
   ],
   "source": [
    "import re # importing regular expressions \n",
    "def is_palindrome():\n",
    "    a=input(\"enter the word\")\n",
    "    clean_a=(re.sub(r'[^A-Za-z0-9]', '', a)).lower() # this ignores spaces,punctuation and capitalization\n",
    "    b=clean_a[::-1]\n",
    "    if clean_a==b:\n",
    "        return True\n",
    "    else:\n",
    "        return False\n",
    "result = is_palindrome()\n",
    "print(result)\n"
   ]
  },
  {
   "cell_type": "raw",
   "id": "20b23012-e63f-4230-b489-a3a4bb8e24c2",
   "metadata": {},
   "source": [
    "Exercise 4: Word counter\n",
    "write a program to count the number of words in a given text.\n",
    "example:\n",
    "input_text = \"This is a sample text. This text will be used to demonstrate the word counter.\"\n",
    "Expected output:\n",
    "'This': 2 \n",
    "'is': 1\n",
    "'a': 1\n",
    "'sample': 1\n",
    "'text.': 1"
   ]
  },
  {
   "cell_type": "code",
   "execution_count": 1,
   "id": "e6a3957a-932f-49d4-a874-e393eb6b7f99",
   "metadata": {},
   "outputs": [
    {
     "name": "stdout",
     "output_type": "stream",
     "text": [
      "'This': 1\n",
      "'is': 1\n",
      "'a': 1\n",
      "'data': 1\n",
      "'science': 1\n",
      "'assignement': 1\n",
      "'number': 1\n",
      "'three.': 1\n"
     ]
    }
   ],
   "source": [
    "from collections import Counter  #with the help of this module we can do this problem\n",
    "                         #counter used to count occurrences of items in an iterartin\n",
    "#The input sentence\n",
    "sentence= \"This is a data science assignement number three.\"\n",
    "\n",
    "\n",
    "split= sentence.split() # Split the text into words when it find spaces in sentence\n",
    "\n",
    "countvalues=Counter(split)\n",
    "# Count each word\n",
    "\n",
    "for word, count in countvalues.items(): print(f\"'{word}': {count}\")\n",
    "                   #retrive a distionary(key,value pair) from countvalues\n",
    "    \n"
   ]
  },
  {
   "cell_type": "code",
   "execution_count": null,
   "id": "23558b2c-6d6c-4dcd-9c12-9333210beaa6",
   "metadata": {},
   "outputs": [],
   "source": []
  }
 ],
 "metadata": {
  "kernelspec": {
   "display_name": "Python [conda env:base] *",
   "language": "python",
   "name": "conda-base-py"
  },
  "language_info": {
   "codemirror_mode": {
    "name": "ipython",
    "version": 3
   },
   "file_extension": ".py",
   "mimetype": "text/x-python",
   "name": "python",
   "nbconvert_exporter": "python",
   "pygments_lexer": "ipython3",
   "version": "3.12.7"
  }
 },
 "nbformat": 4,
 "nbformat_minor": 5
}
