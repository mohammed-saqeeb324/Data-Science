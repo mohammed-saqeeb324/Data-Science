{
 "cells": [
  {
   "cell_type": "raw",
   "id": "f6262def-9808-4edc-b21f-27a208d9865a",
   "metadata": {},
   "source": [
    "HYPOTHESIS TESTING\n",
    "Background:\n",
    "Bombay hospitality Ltd. operates a franchise model for producing exotic Norwegian dinners throughout New England. The operating cost for a franchise in a week (W) is given by the equation W = $1,000 + $5X, where X represents the number of units produced in a week. Recent feedback from restaurant owners suggests that this cost model may no longer be accurate, as their observed weekly operating costs are higher.\n",
    "Objective:\n",
    "To investigate the restaurant owners' claim about the increase in weekly operating costs using hypothesis testing.\n",
    "Data Provided:\n",
    "•\tThe theoretical weekly operating cost model: W = $1,000 + $5X\n",
    "•\tSample of 25 restaurants with a mean weekly cost of Rs. 3,050\n",
    "•\tNumber of units produced in a week (X) follows a normal distribution with a mean (μ) of 600 units and a standard deviation (σ) of 25 units\n",
    "Assignment Tasks:\n",
    "1. State the Hypotheses statement:\n",
    "2. Calculate the Test Statistic:\n",
    "Use the following formula to calculate the test statistic (t):\n",
    "where:\n",
    "•\tˉxˉ = sample mean weekly cost (Rs. 3,050)\n",
    "•\tμ = theoretical mean weekly cost according to the cost model (W = $1,000 + $5X for X = 600 units)\n",
    "•\tσ = 5*25 units\n",
    "•\tn = sample size (25 restaurants)\n",
    "3. Determine the Critical Value:\n",
    "Using the alpha level of 5% (α = 0.05), determine the critical value from the standard normal (Z) distribution table.\n",
    "4. Make a Decision:\n",
    "Compare the test statistic with the critical value to decide whether to reject the null hypothesis.\n",
    "5. Conclusion:\n",
    "Based on the decision in step 4, conclude whether there is strong evidence to support the restaurant owners' claim that the weekly operating costs are higher than the model suggests.\n",
    "\n",
    "Submission Guidelines:\n",
    "•\tPrepare python file detailing each step of your hypothesis testing process.\n",
    "•\tInclude calculations for the test statistic and the critical value.\n",
    "•\tProvide a clear conclusion based on your analysis.\n",
    "\n"
   ]
  },
  {
   "cell_type": "code",
   "execution_count": 5,
   "id": "974dd23f-ec39-48fe-8a57-3e9cfaa51c19",
   "metadata": {},
   "outputs": [
    {
     "name": "stdout",
     "output_type": "stream",
     "text": [
      "t_calculated value       = -38.0\n",
      "\n",
      "the critical value for t = 1.7108820799094275\n",
      "\n",
      "Accept null hypothesis i.e.,The observed weekly operation is not higher\n"
     ]
    }
   ],
   "source": [
    "from scipy.stats import t\n",
    "from math import sqrt\n",
    "import numpy as np\n",
    "\n",
    "\n",
    "\n",
    "#first we are using t-test for this data\n",
    "# H0: The observed weekly operation is not higher\n",
    "# H1: The observed weekly operating costs are higher\n",
    "#the given fields are\n",
    "mu=4000\n",
    "x_bar=3050\n",
    "s=125\n",
    "\n",
    "n=25\n",
    "dof=n-1\n",
    "\n",
    "#define the level of significance i.e., given 5%\n",
    "alpha=0.05\n",
    "\n",
    "#calculate the t-test value\n",
    "t_cal=(x_bar-mu)/(s/sqrt(n))\n",
    "print(\"t_calculated value       =\",t_cal)\n",
    "print()\n",
    "\n",
    "#calculate the critical value of t\n",
    "t_critical=t.ppf(1-alpha,dof)\n",
    "print(\"the critical value for t =\",t_critical)\n",
    "print()\n",
    "\n",
    "if t_cal<t_critical:\n",
    "    print(\"Accept null hypothesis i.e.,The observed weekly operation is not higher\")\n",
    "else:\n",
    "    print(\"Reject null hypothesis i.e., The observed weekly operation is higher\")"
   ]
  },
  {
   "cell_type": "raw",
   "id": "16746f9a-5c3d-437c-a45e-85552dfde0f1",
   "metadata": {},
   "source": [
    "Hence we can say that we dont have enough evidence to conclude that The observed weekly operation is not higher."
   ]
  },
  {
   "cell_type": "raw",
   "id": "938c7d3b-816a-4231-8175-e6dd26180d90",
   "metadata": {},
   "source": [
    "CHI-SQUARE TEST\n",
    "Association between Device Type and Customer Satisfaction\n",
    "Background:\n",
    "Mizzare Corporation has collected data on customer satisfaction levels for two types of smart home devices: Smart Thermostats and Smart Lights. They want to determine if there's a significant association between the type of device purchased and the customer's satisfaction level.\n",
    "Data Provided:\n",
    "The data is summarized in a contingency table showing the counts of customers in each satisfaction level for both types of devices:\n",
    "Satisfaction\tSmart Thermostat\tSmart Light\tTotal\n",
    "Very Satisfied\t50\t70\t120\n",
    "Satisfied 80\t100\t180\n",
    "Neutral\t60\t90\t150\n",
    "Unsatisfied\t30\t50\t80\n",
    "Very Unsatisfied\t20\t50\t70\n",
    "Total\t240\t360\t600\n",
    "Objective:\n",
    "To use the Chi-Square test for independence to determine if there's a significant association between the type of smart home device purchased (Smart Thermostats vs. Smart Lights) and the customer satisfaction level.\n",
    "Assignment Tasks:\n",
    "1. State the Hypotheses:\n",
    "2. Compute the Chi-Square Statistic:\n",
    "3. Determine the Critical Value:\n",
    "Using the significance level (alpha) of 0.05 and the degrees of freedom (which is the number of categories minus 1)\n",
    "4. Make a Decision:\n",
    "Compare the Chi-Square statistic with the critical value to decide whether to reject the null hypothesis.\n",
    "Submission Guidelines:\n",
    "•\tProvide a detailed report of your analysis, including each step outlined in the assignment tasks in a python file.\n",
    "•\tInclude all calculations, the Chi-Square statistic, the critical value, and your conclusion.\n"
   ]
  },
  {
   "cell_type": "code",
   "execution_count": 19,
   "id": "2858a0a8-25a5-4b90-a71d-f1ad42373dee",
   "metadata": {},
   "outputs": [
    {
     "name": "stdout",
     "output_type": "stream",
     "text": [
      "                  Smart Thermostat  Smart Light Total\n",
      "Very Satisfied                  50                 70\n",
      "Satisfied                       80                100\n",
      "Neutral                         60                 90\n",
      "Unsatisfied                     30                 50\n",
      "Very Unsatisfied                20                 50\n"
     ]
    }
   ],
   "source": [
    "import pandas as pd\n",
    "from scipy.stats import chi2_contingency\n",
    "\n",
    "#first the data can be formed into a data frame\n",
    "data=[[50,70],[80,100],[60,90],[30,50],[20,50]]\n",
    "df=pd.DataFrame(data,columns=['Smart Thermostat','Smart Light Total'],index=['Very Satisfied','Satisfied','Neutral','Unsatisfied','Very Unsatisfied'])\n",
    "print(df)\n"
   ]
  },
  {
   "cell_type": "markdown",
   "id": "f0eb67c4-ac43-48fd-95dd-e39ca881d73f",
   "metadata": {},
   "source": [
    "#using chi square test to check weather there is association between customer satisfaction levels for two types of smart home devices: Smart Thermostats and Smart Lights.\n"
   ]
  },
  {
   "cell_type": "code",
   "execution_count": 26,
   "id": "d3db0d9f-8fa6-4a9e-8ca9-74d14b7936d8",
   "metadata": {},
   "outputs": [
    {
     "name": "stdout",
     "output_type": "stream",
     "text": [
      "chi square statistics= 5.638227513227513\n",
      "\n",
      "p_value 0.22784371130697179\n",
      "\n",
      "degrees of freedom= 4\n",
      "\n",
      "Expected Frequencies [[ 48.  72.]\n",
      " [ 72. 108.]\n",
      " [ 60.  90.]\n",
      " [ 32.  48.]\n",
      " [ 28.  42.]]\n",
      "\n",
      "H0 is accepted \n",
      " there's no  significant association between the type of smart home device purchased Smart Thermostats  Smart Light and the customer satisfaction level.\n"
     ]
    }
   ],
   "source": [
    "chi2, p_value, dof, expected= chi2_contingency(df)\n",
    "\n",
    "print(\"chi square statistics=\",chi2)\n",
    "print()\n",
    "print(\"p_value\",p_value)\n",
    "print()\n",
    "print(\"degrees of freedom=\",dof)\n",
    "print()\n",
    "print(\"Expected Frequencies\",expected)\n",
    "print()\n",
    "#based on the p value we are deciding the hypothesis\n",
    "if p_value<0.05:\n",
    "    print(\"H0 is rejected \\n there  is significance difference between smart home purchase and customer satistication level\")\n",
    "else:\n",
    "    print(\"H0 is accepted \\n there's no  significant association between the type of smart home device purchased Smart Thermostats  Smart Light and the customer satisfaction level.\")\n"
   ]
  },
  {
   "cell_type": "markdown",
   "id": "23a40d72-6bc1-4c1e-8676-74fecdce6442",
   "metadata": {},
   "source": [
    "there is no significant association between the type of smart home device purchased likeSmart Thermostats and Smart Lights and the customer satisfaction level."
   ]
  },
  {
   "cell_type": "code",
   "execution_count": null,
   "id": "4a3b10b2-05fe-4a8f-bba2-4f413a8c420f",
   "metadata": {},
   "outputs": [],
   "source": []
  }
 ],
 "metadata": {
  "kernelspec": {
   "display_name": "Python [conda env:base] *",
   "language": "python",
   "name": "conda-base-py"
  },
  "language_info": {
   "codemirror_mode": {
    "name": "ipython",
    "version": 3
   },
   "file_extension": ".py",
   "mimetype": "text/x-python",
   "name": "python",
   "nbconvert_exporter": "python",
   "pygments_lexer": "ipython3",
   "version": "3.12.7"
  }
 },
 "nbformat": 4,
 "nbformat_minor": 5
}
