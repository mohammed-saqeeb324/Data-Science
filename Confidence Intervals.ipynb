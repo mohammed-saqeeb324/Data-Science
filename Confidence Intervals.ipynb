{
 "cells": [
  {
   "cell_type": "raw",
   "id": "b0babdfb-580d-4db2-98d0-f7abe0401c2d",
   "metadata": {},
   "source": [
    "Estimation And Confidence Intervals\n",
    "\n",
    "Background\n",
    "In quality control processes, especially when dealing with high-value items, destructive sampling is a necessary but costly method to ensure product quality. The test to determine whether an item meets the quality standards destroys the item, leading to the requirement of small sample sizes due to cost constraints.\n",
    "Scenario\n",
    "A manufacturer of print-heads for personal computers is interested in estimating the mean durability of their print-heads in terms of the number of characters printed before failure. To assess this, the manufacturer conducts a study on a small sample of print-heads due to the destructive nature of the testing process.\n",
    "Data\n",
    "A total of 15 print-heads were randomly selected and tested until failure. The durability of each print-head (in millions of characters) was recorded as follows:\n",
    "1.13, 1.55, 1.43, 0.92, 1.25, 1.36, 1.32, 0.85, 1.07, 1.48, 1.20, 1.33, 1.18, 1.22, 1.29\n",
    "Assignment Tasks\n",
    "a. Build 99% Confidence Interval Using Sample Standard Deviation\n",
    "Assuming the sample is representative of the population, construct a 99% confidence interval for the mean number of characters printed before the print-head fails using the sample standard deviation. Explain the steps you take and the rationale behind using the t-distribution for this task.\n",
    "b. Build 99% Confidence Interval Using Known Population Standard Deviation\n",
    "If it were known that the population standard deviation is 0.2 million characters, construct a 99% confidence interval for the mean number of characters printed before failure.\n"
   ]
  },
  {
   "cell_type": "code",
   "execution_count": 1,
   "id": "b7d8b826-577f-4238-840e-d9584ab5cfac",
   "metadata": {},
   "outputs": [],
   "source": [
    "import numpy as np\n",
    "from scipy import stats #stats is imported to calculate  the intervals"
   ]
  },
  {
   "cell_type": "raw",
   "id": "9ee8d03f-f7e2-4902-9af7-e98753723a17",
   "metadata": {},
   "source": [
    "#task a\n",
    "a)Build 99% Confidence Interval Using Sample Standard Deviation\n",
    "Assuming the sample is representative of the population, construct a 99% confidence interval for the mean number of characters printed before the print-head fails using the sample standard deviation. Explain the steps you take and the rationale behind using the t-distribution for this task."
   ]
  },
  {
   "cell_type": "code",
   "execution_count": 3,
   "id": "a0956595-5c1a-4f75-97cd-08d727bd4278",
   "metadata": {},
   "outputs": [
    {
     "data": {
      "text/plain": [
       "(1.095231668626123, 1.3821016647072102)"
      ]
     },
     "execution_count": 3,
     "metadata": {},
     "output_type": "execute_result"
    }
   ],
   "source": [
    "data=np.array([1.13, 1.55, 1.43, 0.92, 1.25, 1.36, 1.32, 0.85, 1.07, 1.48, 1.20, 1.33, 1.18, 1.22, 1.29])\n",
    "mean=data.mean() #calculate the mean of the data\n",
    "std=data.std()#calculate the standard deviation of the data\n",
    "# we use t test because the sample size is less than 30 i.e.,15\n",
    "\n",
    "stats.t.interval(0.99,14,mean,std/(np.sqrt(15)))"
   ]
  },
  {
   "cell_type": "raw",
   "id": "24f8880a-d3ca-4c2e-8b58-209832eee8e7",
   "metadata": {},
   "source": [
    "Hence 99% confident that population mean lies in between 1.09 and 1.38"
   ]
  },
  {
   "cell_type": "raw",
   "id": "bd1393ce-a4c3-490a-aa47-4d5f5c9dd5a2",
   "metadata": {},
   "source": [
    "#task b\n",
    "b. Build 99% Confidence Interval Using Known Population Standard Deviation\n",
    "If it were known that the population standard deviation is 0.2 million characters, construct a 99% confidence interval for the mean number of characters printed before failure."
   ]
  },
  {
   "cell_type": "code",
   "execution_count": 5,
   "id": "7a6034b9-0d88-40a9-92a9-c16389c93b72",
   "metadata": {},
   "outputs": [
    {
     "data": {
      "text/plain": [
       "(1.1056514133957607, 1.3716819199375725)"
      ]
     },
     "execution_count": 5,
     "metadata": {},
     "output_type": "execute_result"
    }
   ],
   "source": [
    "data=np.array([1.13, 1.55, 1.43, 0.92, 1.25, 1.36, 1.32, 0.85, 1.07, 1.48, 1.20, 1.33, 1.18, 1.22, 1.29])\n",
    "mean=data.mean()\n",
    "std=0.2 # as it is given\n",
    "#we use z test as standard deviation is given \n",
    "\n",
    "stats.norm.interval(0.99,mean,std/(np.sqrt(15)))"
   ]
  },
  {
   "cell_type": "raw",
   "id": "d25ec5f1-4a65-46fd-a835-72fc1e347594",
   "metadata": {},
   "source": [
    "with given standard deviation as 0.2 on 99% confident that the mean number of characters printed before failure lies in b"
   ]
  }
 ],
 "metadata": {
  "kernelspec": {
   "display_name": "Python [conda env:base] *",
   "language": "python",
   "name": "conda-base-py"
  },
  "language_info": {
   "codemirror_mode": {
    "name": "ipython",
    "version": 3
   },
   "file_extension": ".py",
   "mimetype": "text/x-python",
   "name": "python",
   "nbconvert_exporter": "python",
   "pygments_lexer": "ipython3",
   "version": "3.12.7"
  }
 },
 "nbformat": 4,
 "nbformat_minor": 5
}
